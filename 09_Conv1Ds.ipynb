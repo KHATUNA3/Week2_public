{
  "nbformat": 4,
  "nbformat_minor": 0,
  "metadata": {
    "colab": {
      "name": "09_Conv1Ds.ipynb",
      "version": "0.3.2",
      "provenance": [],
      "collapsed_sections": [],
      "include_colab_link": true
    }
  },
  "cells": [
    {
      "cell_type": "markdown",
      "metadata": {
        "id": "view-in-github",
        "colab_type": "text"
      },
      "source": [
        "[View in Colaboratory](https://colab.research.google.com/github/KHATUNA3/Week2_public/blob/master/09_Conv1Ds.ipynb)"
      ]
    },
    {
      "metadata": {
        "id": "PcahCqill_TM",
        "colab_type": "text"
      },
      "cell_type": "markdown",
      "source": [
        "# 1d Convolutional Neural Networks"
      ]
    },
    {
      "metadata": {
        "id": "5juHZFcFugzS",
        "colab_type": "code",
        "colab": {}
      },
      "cell_type": "code",
      "source": [
        "\n",
        "# Imports\n",
        "import numpy as np\n",
        "import os\n",
        "# from utils.utilities import *\n",
        "from sklearn.model_selection import train_test_split\n",
        "import matplotlib.pyplot as plt\n",
        "import tensorflow as tf\n",
        "import pandas as pd\n",
        "import tensorflow as tf\n",
        "from tensorflow import keras"
      ],
      "execution_count": 0,
      "outputs": []
    },
    {
      "metadata": {
        "id": "Bx9AXfRcmGky",
        "colab_type": "text"
      },
      "cell_type": "markdown",
      "source": [
        "### About the Data"
      ]
    },
    {
      "metadata": {
        "id": "8-uE2dd9mJMv",
        "colab_type": "text"
      },
      "cell_type": "markdown",
      "source": [
        "Data is from people doing one of these activities (WALKING, WALKING_UPSTAIRS, WALKING_DOWNSTAIRS, SITTING, STANDING, LAYING) <br><br>\n",
        "The data is from a smartphone and provides the body acceleration, general acceleration and a gyroscope reading <br><br>\n",
        "Data is from: https://archive.ics.uci.edu/ml/datasets/human+activity+recognition+using+smartphones "
      ]
    },
    {
      "metadata": {
        "id": "gHFlVzfY4ZPQ",
        "colab_type": "text"
      },
      "cell_type": "markdown",
      "source": [
        "### Read in data from functions provided below"
      ]
    },
    {
      "metadata": {
        "id": "ikIjLu7w4Mm_",
        "colab_type": "code",
        "colab": {}
      },
      "cell_type": "code",
      "source": [
        "X_train, labels_train, list_ch_train = read_data_train() # train\n",
        "X_test, labels_test, list_ch_test = read_data_test()"
      ],
      "execution_count": 0,
      "outputs": []
    },
    {
      "metadata": {
        "id": "EG3Tq1ajmjOu",
        "colab_type": "code",
        "colab": {
          "base_uri": "https://localhost:8080/",
          "height": 34
        },
        "outputId": "cb3250da-cb01-495c-fb6b-bf732002a6ee"
      },
      "cell_type": "code",
      "source": [
        "print(X_train.shape)"
      ],
      "execution_count": 47,
      "outputs": [
        {
          "output_type": "stream",
          "text": [
            "(7352, 128, 9)\n"
          ],
          "name": "stdout"
        }
      ]
    },
    {
      "metadata": {
        "id": "MwRtb-8ymqDz",
        "colab_type": "text"
      },
      "cell_type": "markdown",
      "source": [
        "\n",
        "#### Explaining the shape of the data \n",
        "There are 7,352 data points that are classified as doing one of those activities <br>\n",
        "There are 128 time steps <br>\n",
        "There are 9 values for each time step for each data point for the x,y,z values of the body \n",
        "acceleration, general acceleration and gyrscope reading. <br>"
      ]
    },
    {
      "metadata": {
        "id": "V-8mOh7cm75k",
        "colab_type": "text"
      },
      "cell_type": "markdown",
      "source": [
        "### Use train_test_split to create training and validation data and labels"
      ]
    },
    {
      "metadata": {
        "id": "buuR3HH9yTOw",
        "colab_type": "code",
        "colab": {}
      },
      "cell_type": "code",
      "source": [
        "# your code here\n",
        "X_tr, X_val, lb_tr, lb_val = train_test_split(X_train, labels_train, stratify = labels_train, random_state = 123)"
      ],
      "execution_count": 0,
      "outputs": []
    },
    {
      "metadata": {
        "id": "roTpeSQMnKHa",
        "colab_type": "text"
      },
      "cell_type": "markdown",
      "source": [
        "One hot coding is when each row represents one label and it the nonzero column represents what the label is<br>\n",
        " [0,0,0,0,0,1] <br>\n",
        "           ^ This label is LAYING, which was previously represented with a 5\n",
        "           <br><br>"
      ]
    },
    {
      "metadata": {
        "id": "0LiLobJZnscs",
        "colab_type": "text"
      },
      "cell_type": "markdown",
      "source": [
        "### One hot encoding functions are provided at the bottom of this notebook <br> Use these functions to convert the training, validation and testing labels"
      ]
    },
    {
      "metadata": {
        "id": "gZQJY0rYnKeC",
        "colab_type": "code",
        "colab": {}
      },
      "cell_type": "code",
      "source": [
        "# your code here\n",
        "y_tr = one_hot(lb_tr)\n",
        "y_val = one_hot(lb_val)\n",
        "y_test = one_hot(labels_test)"
      ],
      "execution_count": 0,
      "outputs": []
    },
    {
      "metadata": {
        "id": "7bi9-LMuotEG",
        "colab_type": "text"
      },
      "cell_type": "markdown",
      "source": [
        "### Define your Keras model <br>\n",
        "You wlil want to use\n",
        "\n",
        "See for examples on creating Keras modelshttps://github.com/keras-team/keras/blob/master/examples/mnist_cnn.py"
      ]
    },
    {
      "metadata": {
        "id": "9mwwpV8upQYD",
        "colab_type": "code",
        "colab": {
          "base_uri": "https://localhost:8080/",
          "height": 255
        },
        "outputId": "69783348-f9c5-4190-9944-f6ab3ff79965"
      },
      "cell_type": "code",
      "source": [
        "# fill in with your code below\n",
        "#from keras.layers import Conv1D, MaxPooling2D, Dropout\n",
        "\n",
        "model = keras.Sequential()\n",
        "model.add(keras.layers.Conv1D(filters=18, kernel_size=3, strides=1, padding='same', activation='relu', input_shape=(128,9)))\n",
        "model.add(keras.layers.GlobalMaxPooling1D())\n",
        "model.add(keras.layers.Dense(6, activation = tf.nn.sigmoid))\n",
        "print(model.summary())  # view model\n",
        "    \n",
        "    \n"
      ],
      "execution_count": 50,
      "outputs": [
        {
          "output_type": "stream",
          "text": [
            "_________________________________________________________________\n",
            "Layer (type)                 Output Shape              Param #   \n",
            "=================================================================\n",
            "conv1d_17 (Conv1D)           (None, 128, 18)           504       \n",
            "_________________________________________________________________\n",
            "global_max_pooling1d_3 (Glob (None, 18)                0         \n",
            "_________________________________________________________________\n",
            "dense_12 (Dense)             (None, 6)                 114       \n",
            "=================================================================\n",
            "Total params: 618\n",
            "Trainable params: 618\n",
            "Non-trainable params: 0\n",
            "_________________________________________________________________\n",
            "None\n"
          ],
          "name": "stdout"
        }
      ]
    },
    {
      "metadata": {
        "id": "X844AtBlqV1Y",
        "colab_type": "text"
      },
      "cell_type": "markdown",
      "source": [
        "### Compile your model"
      ]
    },
    {
      "metadata": {
        "id": "6KSPl0lMqUUZ",
        "colab_type": "code",
        "colab": {}
      },
      "cell_type": "code",
      "source": [
        "lr = 0.0008 # choose a learning rate, this will be a good paramter to tune\n",
        "model.compile( optimizer=tf.train.AdamOptimizer(lr), loss=keras.losses.categorical_crossentropy, metrics = ['accuracy'] )"
      ],
      "execution_count": 0,
      "outputs": []
    },
    {
      "metadata": {
        "id": "pBOK_ZaCq6XR",
        "colab_type": "text"
      },
      "cell_type": "markdown",
      "source": [
        "### Fit your model"
      ]
    },
    {
      "metadata": {
        "id": "6ksWXRzrrCzL",
        "colab_type": "code",
        "colab": {
          "base_uri": "https://localhost:8080/",
          "height": 3454
        },
        "outputId": "545c293a-594d-4dd3-8a5f-175d9e631b0a"
      },
      "cell_type": "code",
      "source": [
        "history = model.fit( X_tr,y_tr,\n",
        "                    epochs= 100,\n",
        "                    batch_size= 600,\n",
        "                    validation_data=(X_val, y_val),\n",
        "                    verbose=1 \n",
        "                    )"
      ],
      "execution_count": 52,
      "outputs": [
        {
          "output_type": "stream",
          "text": [
            "Train on 5514 samples, validate on 1838 samples\n",
            "Epoch 1/100\n",
            "5514/5514 [==============================] - 2s 282us/step - loss: 1.8286 - acc: 0.2994 - val_loss: 1.7962 - val_acc: 0.3188\n",
            "Epoch 2/100\n",
            "5514/5514 [==============================] - 1s 207us/step - loss: 1.7775 - acc: 0.3172 - val_loss: 1.7516 - val_acc: 0.3264\n",
            "Epoch 3/100\n",
            "5514/5514 [==============================] - 1s 240us/step - loss: 1.7362 - acc: 0.3241 - val_loss: 1.7130 - val_acc: 0.3379\n",
            "Epoch 4/100\n",
            "5514/5514 [==============================] - 1s 239us/step - loss: 1.6998 - acc: 0.3411 - val_loss: 1.6779 - val_acc: 0.3651\n",
            "Epoch 5/100\n",
            "5514/5514 [==============================] - 1s 239us/step - loss: 1.6654 - acc: 0.3672 - val_loss: 1.6438 - val_acc: 0.3885\n",
            "Epoch 6/100\n",
            "5514/5514 [==============================] - 1s 236us/step - loss: 1.6316 - acc: 0.3856 - val_loss: 1.6098 - val_acc: 0.3993\n",
            "Epoch 7/100\n",
            "5514/5514 [==============================] - 1s 241us/step - loss: 1.5981 - acc: 0.4006 - val_loss: 1.5765 - val_acc: 0.4053\n",
            "Epoch 8/100\n",
            "5514/5514 [==============================] - 1s 237us/step - loss: 1.5657 - acc: 0.4088 - val_loss: 1.5444 - val_acc: 0.4129\n",
            "Epoch 9/100\n",
            "5514/5514 [==============================] - 1s 234us/step - loss: 1.5346 - acc: 0.4182 - val_loss: 1.5137 - val_acc: 0.4266\n",
            "Epoch 10/100\n",
            "5514/5514 [==============================] - 1s 236us/step - loss: 1.5047 - acc: 0.4253 - val_loss: 1.4844 - val_acc: 0.4325\n",
            "Epoch 11/100\n",
            "5514/5514 [==============================] - 1s 237us/step - loss: 1.4761 - acc: 0.4342 - val_loss: 1.4558 - val_acc: 0.4391\n"
          ],
          "name": "stdout"
        },
        {
          "output_type": "stream",
          "text": [
            "Epoch 12/100\n",
            "5514/5514 [==============================] - 1s 231us/step - loss: 1.4480 - acc: 0.4458 - val_loss: 1.4274 - val_acc: 0.4652\n",
            "Epoch 13/100\n",
            "5514/5514 [==============================] - 1s 230us/step - loss: 1.4195 - acc: 0.4946 - val_loss: 1.3975 - val_acc: 0.5435\n",
            "Epoch 14/100\n",
            "5514/5514 [==============================] - 1s 229us/step - loss: 1.3892 - acc: 0.5555 - val_loss: 1.3662 - val_acc: 0.5838\n",
            "Epoch 15/100\n",
            "5514/5514 [==============================] - 1s 230us/step - loss: 1.3579 - acc: 0.5878 - val_loss: 1.3343 - val_acc: 0.6257\n",
            "Epoch 16/100\n",
            "5514/5514 [==============================] - 1s 231us/step - loss: 1.3259 - acc: 0.6503 - val_loss: 1.3012 - val_acc: 0.6942\n",
            "Epoch 17/100\n",
            "5514/5514 [==============================] - 1s 230us/step - loss: 1.2928 - acc: 0.7035 - val_loss: 1.2673 - val_acc: 0.7274\n",
            "Epoch 18/100\n",
            "5514/5514 [==============================] - 1s 230us/step - loss: 1.2587 - acc: 0.7372 - val_loss: 1.2322 - val_acc: 0.7541\n",
            "Epoch 19/100\n",
            "5514/5514 [==============================] - 1s 231us/step - loss: 1.2235 - acc: 0.7572 - val_loss: 1.1962 - val_acc: 0.7748\n",
            "Epoch 20/100\n",
            "5514/5514 [==============================] - 1s 230us/step - loss: 1.1874 - acc: 0.7699 - val_loss: 1.1593 - val_acc: 0.7873\n",
            "Epoch 21/100\n",
            "5514/5514 [==============================] - 1s 230us/step - loss: 1.1502 - acc: 0.7836 - val_loss: 1.1218 - val_acc: 0.7949\n",
            "Epoch 22/100\n",
            "5514/5514 [==============================] - 1s 230us/step - loss: 1.1129 - acc: 0.7934 - val_loss: 1.0837 - val_acc: 0.8074\n",
            "Epoch 23/100\n",
            "1200/5514 [=====>........................] - ETA: 0s - loss: 1.0874 - acc: 0.7892"
          ],
          "name": "stdout"
        },
        {
          "output_type": "stream",
          "text": [
            "5514/5514 [==============================] - 1s 228us/step - loss: 1.0750 - acc: 0.8058 - val_loss: 1.0458 - val_acc: 0.8243\n",
            "Epoch 24/100\n",
            "5514/5514 [==============================] - 1s 229us/step - loss: 1.0372 - acc: 0.8166 - val_loss: 1.0076 - val_acc: 0.8264\n",
            "Epoch 25/100\n",
            "5514/5514 [==============================] - 1s 232us/step - loss: 0.9994 - acc: 0.8250 - val_loss: 0.9699 - val_acc: 0.8319\n",
            "Epoch 26/100\n",
            "5514/5514 [==============================] - 1s 229us/step - loss: 0.9620 - acc: 0.8332 - val_loss: 0.9328 - val_acc: 0.8466\n",
            "Epoch 27/100\n",
            "5514/5514 [==============================] - 1s 229us/step - loss: 0.9253 - acc: 0.8415 - val_loss: 0.8967 - val_acc: 0.8526\n",
            "Epoch 28/100\n",
            "5514/5514 [==============================] - 1s 230us/step - loss: 0.8891 - acc: 0.8487 - val_loss: 0.8610 - val_acc: 0.8553\n",
            "Epoch 29/100\n",
            "5514/5514 [==============================] - 1s 229us/step - loss: 0.8540 - acc: 0.8538 - val_loss: 0.8265 - val_acc: 0.8624\n",
            "Epoch 30/100\n",
            "5514/5514 [==============================] - 1s 228us/step - loss: 0.8200 - acc: 0.8605 - val_loss: 0.7936 - val_acc: 0.8672\n",
            "Epoch 31/100\n",
            "5514/5514 [==============================] - 1s 229us/step - loss: 0.7873 - acc: 0.8671 - val_loss: 0.7619 - val_acc: 0.8825\n",
            "Epoch 32/100\n",
            "5514/5514 [==============================] - 1s 228us/step - loss: 0.7565 - acc: 0.8727 - val_loss: 0.7321 - val_acc: 0.8885\n",
            "Epoch 33/100\n",
            "5514/5514 [==============================] - 1s 228us/step - loss: 0.7267 - acc: 0.8783 - val_loss: 0.7035 - val_acc: 0.8857\n",
            "Epoch 34/100\n",
            "1800/5514 [========>.....................] - ETA: 0s - loss: 0.6995 - acc: 0.8867"
          ],
          "name": "stdout"
        },
        {
          "output_type": "stream",
          "text": [
            "5514/5514 [==============================] - 1s 230us/step - loss: 0.6988 - acc: 0.8818 - val_loss: 0.6768 - val_acc: 0.8928\n",
            "Epoch 35/100\n",
            "5514/5514 [==============================] - 1s 231us/step - loss: 0.6724 - acc: 0.8865 - val_loss: 0.6514 - val_acc: 0.8934\n",
            "Epoch 36/100\n",
            "5514/5514 [==============================] - 1s 229us/step - loss: 0.6475 - acc: 0.8901 - val_loss: 0.6277 - val_acc: 0.8934\n",
            "Epoch 37/100\n",
            "5514/5514 [==============================] - 1s 229us/step - loss: 0.6242 - acc: 0.8917 - val_loss: 0.6051 - val_acc: 0.8972\n",
            "Epoch 38/100\n",
            "5514/5514 [==============================] - 1s 230us/step - loss: 0.6027 - acc: 0.8939 - val_loss: 0.5842 - val_acc: 0.8993\n",
            "Epoch 39/100\n",
            "5514/5514 [==============================] - 1s 230us/step - loss: 0.5821 - acc: 0.8983 - val_loss: 0.5651 - val_acc: 0.9032\n",
            "Epoch 40/100\n",
            "5514/5514 [==============================] - 1s 231us/step - loss: 0.5633 - acc: 0.9006 - val_loss: 0.5464 - val_acc: 0.9059\n",
            "Epoch 41/100\n",
            "5514/5514 [==============================] - 1s 230us/step - loss: 0.5450 - acc: 0.8990 - val_loss: 0.5291 - val_acc: 0.9081\n",
            "Epoch 42/100\n",
            "5514/5514 [==============================] - 1s 228us/step - loss: 0.5281 - acc: 0.9022 - val_loss: 0.5132 - val_acc: 0.9070\n",
            "Epoch 43/100\n",
            "5514/5514 [==============================] - 1s 228us/step - loss: 0.5128 - acc: 0.9037 - val_loss: 0.4985 - val_acc: 0.9097\n",
            "Epoch 44/100\n",
            "5514/5514 [==============================] - 1s 231us/step - loss: 0.4978 - acc: 0.9052 - val_loss: 0.4840 - val_acc: 0.9064\n",
            "Epoch 45/100\n",
            "1800/5514 [========>.....................] - ETA: 0s - loss: 0.4805 - acc: 0.9056"
          ],
          "name": "stdout"
        },
        {
          "output_type": "stream",
          "text": [
            "5514/5514 [==============================] - 1s 232us/step - loss: 0.4839 - acc: 0.9066 - val_loss: 0.4706 - val_acc: 0.9081\n",
            "Epoch 46/100\n",
            "5514/5514 [==============================] - 1s 231us/step - loss: 0.4709 - acc: 0.9081 - val_loss: 0.4583 - val_acc: 0.9097\n",
            "Epoch 47/100\n",
            "5514/5514 [==============================] - 1s 232us/step - loss: 0.4587 - acc: 0.9091 - val_loss: 0.4460 - val_acc: 0.9108\n",
            "Epoch 48/100\n",
            "5514/5514 [==============================] - 1s 228us/step - loss: 0.4469 - acc: 0.9093 - val_loss: 0.4351 - val_acc: 0.9124\n",
            "Epoch 49/100\n",
            "5514/5514 [==============================] - 1s 230us/step - loss: 0.4362 - acc: 0.9104 - val_loss: 0.4248 - val_acc: 0.9151\n",
            "Epoch 50/100\n",
            "5514/5514 [==============================] - 1s 230us/step - loss: 0.4257 - acc: 0.9115 - val_loss: 0.4145 - val_acc: 0.9146\n",
            "Epoch 51/100\n",
            "5514/5514 [==============================] - 1s 230us/step - loss: 0.4160 - acc: 0.9126 - val_loss: 0.4050 - val_acc: 0.9162\n",
            "Epoch 52/100\n",
            "5514/5514 [==============================] - 1s 232us/step - loss: 0.4069 - acc: 0.9129 - val_loss: 0.3965 - val_acc: 0.9157\n",
            "Epoch 53/100\n",
            "5514/5514 [==============================] - 1s 230us/step - loss: 0.3982 - acc: 0.9131 - val_loss: 0.3879 - val_acc: 0.9146\n",
            "Epoch 54/100\n",
            "5514/5514 [==============================] - 1s 231us/step - loss: 0.3900 - acc: 0.9135 - val_loss: 0.3800 - val_acc: 0.9157\n",
            "Epoch 55/100\n",
            "5514/5514 [==============================] - 1s 229us/step - loss: 0.3821 - acc: 0.9139 - val_loss: 0.3723 - val_acc: 0.9184\n",
            "Epoch 56/100\n",
            "1800/5514 [========>.....................] - ETA: 0s - loss: 0.3812 - acc: 0.9089"
          ],
          "name": "stdout"
        },
        {
          "output_type": "stream",
          "text": [
            "5514/5514 [==============================] - 1s 228us/step - loss: 0.3747 - acc: 0.9148 - val_loss: 0.3652 - val_acc: 0.9157\n",
            "Epoch 57/100\n",
            "5514/5514 [==============================] - 1s 233us/step - loss: 0.3675 - acc: 0.9166 - val_loss: 0.3582 - val_acc: 0.9162\n",
            "Epoch 58/100\n",
            "5514/5514 [==============================] - 1s 231us/step - loss: 0.3608 - acc: 0.9168 - val_loss: 0.3519 - val_acc: 0.9184\n",
            "Epoch 59/100\n",
            "5514/5514 [==============================] - 1s 230us/step - loss: 0.3547 - acc: 0.9159 - val_loss: 0.3453 - val_acc: 0.9162\n",
            "Epoch 60/100\n",
            "5514/5514 [==============================] - 1s 231us/step - loss: 0.3482 - acc: 0.9169 - val_loss: 0.3397 - val_acc: 0.9173\n",
            "Epoch 61/100\n",
            "5514/5514 [==============================] - 1s 232us/step - loss: 0.3421 - acc: 0.9175 - val_loss: 0.3336 - val_acc: 0.9206\n",
            "Epoch 62/100\n",
            "5514/5514 [==============================] - 1s 232us/step - loss: 0.3364 - acc: 0.9175 - val_loss: 0.3282 - val_acc: 0.9189\n",
            "Epoch 63/100\n",
            "5514/5514 [==============================] - 1s 229us/step - loss: 0.3312 - acc: 0.9193 - val_loss: 0.3233 - val_acc: 0.9200\n",
            "Epoch 64/100\n",
            "5514/5514 [==============================] - 1s 230us/step - loss: 0.3257 - acc: 0.9213 - val_loss: 0.3179 - val_acc: 0.9227\n",
            "Epoch 65/100\n",
            "5514/5514 [==============================] - 1s 232us/step - loss: 0.3208 - acc: 0.9222 - val_loss: 0.3133 - val_acc: 0.9227\n",
            "Epoch 66/100\n",
            "5514/5514 [==============================] - 1s 228us/step - loss: 0.3160 - acc: 0.9227 - val_loss: 0.3083 - val_acc: 0.9227\n",
            "Epoch 67/100\n",
            "1800/5514 [========>.....................] - ETA: 0s - loss: 0.3078 - acc: 0.9206"
          ],
          "name": "stdout"
        },
        {
          "output_type": "stream",
          "text": [
            "5514/5514 [==============================] - 1s 229us/step - loss: 0.3114 - acc: 0.9236 - val_loss: 0.3040 - val_acc: 0.9222\n",
            "Epoch 68/100\n",
            "5514/5514 [==============================] - 1s 230us/step - loss: 0.3069 - acc: 0.9233 - val_loss: 0.3000 - val_acc: 0.9211\n",
            "Epoch 69/100\n",
            "5514/5514 [==============================] - 1s 230us/step - loss: 0.3026 - acc: 0.9238 - val_loss: 0.2956 - val_acc: 0.9222\n",
            "Epoch 70/100\n",
            "5514/5514 [==============================] - 1s 229us/step - loss: 0.2985 - acc: 0.9244 - val_loss: 0.2916 - val_acc: 0.9238\n",
            "Epoch 71/100\n",
            "5514/5514 [==============================] - 1s 230us/step - loss: 0.2947 - acc: 0.9256 - val_loss: 0.2874 - val_acc: 0.9227\n",
            "Epoch 72/100\n",
            "5514/5514 [==============================] - 1s 230us/step - loss: 0.2908 - acc: 0.9258 - val_loss: 0.2837 - val_acc: 0.9222\n",
            "Epoch 73/100\n",
            "5514/5514 [==============================] - 1s 231us/step - loss: 0.2871 - acc: 0.9246 - val_loss: 0.2806 - val_acc: 0.9227\n",
            "Epoch 74/100\n",
            "5514/5514 [==============================] - 1s 229us/step - loss: 0.2836 - acc: 0.9244 - val_loss: 0.2769 - val_acc: 0.9227\n",
            "Epoch 75/100\n",
            "5514/5514 [==============================] - 1s 231us/step - loss: 0.2802 - acc: 0.9264 - val_loss: 0.2732 - val_acc: 0.9233\n",
            "Epoch 76/100\n",
            "5514/5514 [==============================] - 1s 230us/step - loss: 0.2768 - acc: 0.9262 - val_loss: 0.2702 - val_acc: 0.9233\n",
            "Epoch 77/100\n",
            "5514/5514 [==============================] - 1s 230us/step - loss: 0.2734 - acc: 0.9262 - val_loss: 0.2673 - val_acc: 0.9238\n",
            "Epoch 78/100\n",
            "1800/5514 [========>.....................] - ETA: 0s - loss: 0.2723 - acc: 0.9200"
          ],
          "name": "stdout"
        },
        {
          "output_type": "stream",
          "text": [
            "5514/5514 [==============================] - 1s 229us/step - loss: 0.2704 - acc: 0.9256 - val_loss: 0.2641 - val_acc: 0.9233\n",
            "Epoch 79/100\n",
            "5514/5514 [==============================] - 1s 229us/step - loss: 0.2673 - acc: 0.9256 - val_loss: 0.2611 - val_acc: 0.9249\n",
            "Epoch 80/100\n",
            "5514/5514 [==============================] - 1s 231us/step - loss: 0.2644 - acc: 0.9253 - val_loss: 0.2584 - val_acc: 0.9249\n",
            "Epoch 81/100\n",
            "5514/5514 [==============================] - 1s 231us/step - loss: 0.2615 - acc: 0.9260 - val_loss: 0.2556 - val_acc: 0.9227\n",
            "Epoch 82/100\n",
            "5514/5514 [==============================] - 1s 227us/step - loss: 0.2589 - acc: 0.9260 - val_loss: 0.2527 - val_acc: 0.9233\n",
            "Epoch 83/100\n",
            "5514/5514 [==============================] - 1s 230us/step - loss: 0.2561 - acc: 0.9267 - val_loss: 0.2502 - val_acc: 0.9244\n",
            "Epoch 84/100\n",
            "5514/5514 [==============================] - 1s 229us/step - loss: 0.2535 - acc: 0.9267 - val_loss: 0.2480 - val_acc: 0.9260\n",
            "Epoch 85/100\n",
            "5514/5514 [==============================] - 1s 231us/step - loss: 0.2509 - acc: 0.9266 - val_loss: 0.2453 - val_acc: 0.9238\n",
            "Epoch 86/100\n",
            "5514/5514 [==============================] - 1s 229us/step - loss: 0.2487 - acc: 0.9267 - val_loss: 0.2429 - val_acc: 0.9249\n",
            "Epoch 87/100\n",
            "5514/5514 [==============================] - 1s 230us/step - loss: 0.2461 - acc: 0.9275 - val_loss: 0.2406 - val_acc: 0.9255\n",
            "Epoch 88/100\n",
            "5514/5514 [==============================] - 1s 229us/step - loss: 0.2439 - acc: 0.9273 - val_loss: 0.2386 - val_acc: 0.9282\n",
            "Epoch 89/100\n",
            "1800/5514 [========>.....................] - ETA: 0s - loss: 0.2545 - acc: 0.9267"
          ],
          "name": "stdout"
        },
        {
          "output_type": "stream",
          "text": [
            "5514/5514 [==============================] - 1s 232us/step - loss: 0.2416 - acc: 0.9273 - val_loss: 0.2363 - val_acc: 0.9271\n",
            "Epoch 90/100\n",
            "5514/5514 [==============================] - 1s 230us/step - loss: 0.2394 - acc: 0.9273 - val_loss: 0.2338 - val_acc: 0.9260\n",
            "Epoch 91/100\n",
            "5514/5514 [==============================] - 1s 232us/step - loss: 0.2372 - acc: 0.9276 - val_loss: 0.2318 - val_acc: 0.9271\n",
            "Epoch 92/100\n",
            "5514/5514 [==============================] - 1s 233us/step - loss: 0.2352 - acc: 0.9276 - val_loss: 0.2302 - val_acc: 0.9287\n",
            "Epoch 93/100\n",
            "5514/5514 [==============================] - 1s 233us/step - loss: 0.2332 - acc: 0.9280 - val_loss: 0.2279 - val_acc: 0.9276\n",
            "Epoch 94/100\n",
            "5514/5514 [==============================] - 1s 230us/step - loss: 0.2312 - acc: 0.9285 - val_loss: 0.2260 - val_acc: 0.9271\n",
            "Epoch 95/100\n",
            "5514/5514 [==============================] - 1s 228us/step - loss: 0.2291 - acc: 0.9284 - val_loss: 0.2243 - val_acc: 0.9271\n",
            "Epoch 96/100\n",
            "5514/5514 [==============================] - 1s 228us/step - loss: 0.2273 - acc: 0.9293 - val_loss: 0.2223 - val_acc: 0.9282\n",
            "Epoch 97/100\n",
            "5514/5514 [==============================] - 1s 230us/step - loss: 0.2253 - acc: 0.9282 - val_loss: 0.2206 - val_acc: 0.9282\n",
            "Epoch 98/100\n",
            "5514/5514 [==============================] - 1s 232us/step - loss: 0.2238 - acc: 0.9289 - val_loss: 0.2191 - val_acc: 0.9287\n",
            "Epoch 99/100\n",
            "5514/5514 [==============================] - 1s 231us/step - loss: 0.2216 - acc: 0.9295 - val_loss: 0.2169 - val_acc: 0.9293\n",
            "Epoch 100/100\n",
            "1800/5514 [========>.....................] - ETA: 0s - loss: 0.2249 - acc: 0.9283"
          ],
          "name": "stdout"
        },
        {
          "output_type": "stream",
          "text": [
            "5514/5514 [==============================] - 1s 229us/step - loss: 0.2202 - acc: 0.9300 - val_loss: 0.2155 - val_acc: 0.9282\n"
          ],
          "name": "stdout"
        }
      ]
    },
    {
      "metadata": {
        "id": "2YXazeH8udoG",
        "colab_type": "text"
      },
      "cell_type": "markdown",
      "source": [
        "### Code below prints the test loss and accuracy <br>\n",
        "### Before you print your accuracy and loss, play around with the parameters!!"
      ]
    },
    {
      "metadata": {
        "id": "k0e7vQOO5w90",
        "colab_type": "code",
        "colab": {
          "base_uri": "https://localhost:8080/",
          "height": 51
        },
        "outputId": "d160f537-e0e6-4f48-bb8e-f9cca3f47371"
      },
      "cell_type": "code",
      "source": [
        "score = model.evaluate(X_test, y_test, verbose=0)\n",
        "print('Test loss:', score[0])\n",
        "print('Test accuracy:', score[1])"
      ],
      "execution_count": 53,
      "outputs": [
        {
          "output_type": "stream",
          "text": [
            "('Test loss:', 0.3847692847140652)\n",
            "('Test accuracy:', 0.8629114353579912)\n"
          ],
          "name": "stdout"
        }
      ]
    },
    {
      "metadata": {
        "id": "DRsI4XwYxFgK",
        "colab_type": "text"
      },
      "cell_type": "markdown",
      "source": [
        "### Provided Functions Below"
      ]
    },
    {
      "metadata": {
        "id": "adnPCq9PuTBq",
        "colab_type": "code",
        "colab": {}
      },
      "cell_type": "code",
      "source": [
        "def read_data_train():\n",
        "  \"\"\" Read data \"\"\"\n",
        "\n",
        "  # Fixed params\n",
        "  n_class = 6\n",
        "  n_steps = 128\n",
        "\n",
        "  label_path = 'https://raw.githubusercontent.com/BeaverWorksMedlytics/datasets/master/week2_conv1d/y_train.txt'\n",
        "  labels = pd.read_csv(label_path, header = None)\n",
        "\n",
        "  list_of_channels = ['body_acc_x', 'body_acc_y', 'body_acc_z', 'body_gyro_x',\n",
        "  'body_gyro_y', 'body_gyro_z', 'total_acc_x', 'total_acc_y', 'total_acc_z']\n",
        "\n",
        "  X = np.zeros((len(labels), n_steps, len(list_of_channels)))\n",
        "\n",
        "  label_path = 'https://raw.githubusercontent.com/BeaverWorksMedlytics/datasets/master/week2_conv1d/IntertialSignals/body_acc_x_train.txt'\n",
        "  dat_ = pd.read_csv(label_path, delim_whitespace = True, header = None)\n",
        "  X[:,:,0] = dat_.as_matrix()\n",
        "\n",
        "  label_path = 'https://raw.githubusercontent.com/BeaverWorksMedlytics/datasets/master/week2_conv1d/IntertialSignals/body_acc_y_train.txt'\n",
        "  dat_ = pd.read_csv(label_path, delim_whitespace = True, header = None)\n",
        "  X[:,:,1] = dat_.as_matrix()\n",
        "\n",
        "  label_path = 'https://raw.githubusercontent.com/BeaverWorksMedlytics/datasets/master/week2_conv1d/IntertialSignals/body_acc_z_train.txt'\n",
        "  dat_ = pd.read_csv(label_path, delim_whitespace = True, header = None)\n",
        "  X[:,:,2] = dat_.as_matrix()\n",
        "\n",
        "  label_path = 'https://raw.githubusercontent.com/BeaverWorksMedlytics/datasets/master/week2_conv1d/IntertialSignals/body_gyro_x_train.txt'\n",
        "  dat_ = pd.read_csv(label_path, delim_whitespace = True, header = None)\n",
        "  X[:,:,3] = dat_.as_matrix()\n",
        "\n",
        "  label_path = 'https://raw.githubusercontent.com/BeaverWorksMedlytics/datasets/master/week2_conv1d/IntertialSignals/body_gyro_y_train.txt'\n",
        "  dat_ = pd.read_csv(label_path, delim_whitespace = True, header = None)\n",
        "  X[:,:,4] = dat_.as_matrix()\n",
        "\n",
        "  label_path = 'https://raw.githubusercontent.com/BeaverWorksMedlytics/datasets/master/week2_conv1d/IntertialSignals/body_gyro_z_train.txt'\n",
        "  dat_ = pd.read_csv(label_path, delim_whitespace = True, header = None)\n",
        "  X[:,:,5] = dat_.as_matrix()\n",
        "\n",
        "  label_path = 'https://raw.githubusercontent.com/BeaverWorksMedlytics/datasets/master/week2_conv1d/IntertialSignals/total_acc_x_train.txt'\n",
        "  dat_ = pd.read_csv(label_path, delim_whitespace = True, header = None)\n",
        "  X[:,:,6] = dat_.as_matrix()\n",
        "\n",
        "  label_path = 'https://raw.githubusercontent.com/BeaverWorksMedlytics/datasets/master/week2_conv1d/IntertialSignals/total_acc_y_train.txt'\n",
        "  dat_ = pd.read_csv(label_path, delim_whitespace = True, header = None)\n",
        "  X[:,:,7] = dat_.as_matrix()\n",
        "\n",
        "  label_path = 'https://raw.githubusercontent.com/BeaverWorksMedlytics/datasets/master/week2_conv1d/IntertialSignals/total_acc_z_train.txt'\n",
        "  dat_ = pd.read_csv(label_path, delim_whitespace = True, header = None)\n",
        "  X[:,:,8] = dat_.as_matrix()\n",
        "\n",
        "\n",
        "  # Return \n",
        "  return X, labels[0].values, list_of_channels"
      ],
      "execution_count": 0,
      "outputs": []
    },
    {
      "metadata": {
        "id": "iDJBOkx9x0HZ",
        "colab_type": "code",
        "colab": {}
      },
      "cell_type": "code",
      "source": [
        "def read_data_test():\n",
        "  \"\"\" Read data \"\"\"\n",
        "\n",
        "  # Fixed params\n",
        "  n_class = 6\n",
        "  n_steps = 128\n",
        "\n",
        "  label_path = 'https://raw.githubusercontent.com/BeaverWorksMedlytics/datasets/master/week2_conv1d/y_test.txt'\n",
        "  labels = pd.read_csv(label_path, header = None)\n",
        "\n",
        "  list_of_channels = ['body_acc_x', 'body_acc_y', 'body_acc_z', 'body_gyro_x',\n",
        "  'body_gyro_y', 'body_gyro_z', 'total_acc_x', 'total_acc_y', 'total_acc_z']\n",
        "\n",
        "  X = np.zeros((len(labels), n_steps, len(list_of_channels)))\n",
        "\n",
        "  label_path = 'https://raw.githubusercontent.com/BeaverWorksMedlytics/datasets/master/week2_conv1d/IntertialSignals/body_acc_x_test.txt'\n",
        "  dat_ = pd.read_csv(label_path, delim_whitespace = True, header = None)\n",
        "  X[:,:,0] = dat_.as_matrix()\n",
        "\n",
        "  label_path = 'https://raw.githubusercontent.com/BeaverWorksMedlytics/datasets/master/week2_conv1d/IntertialSignals/body_acc_y_test.txt'\n",
        "  dat_ = pd.read_csv(label_path, delim_whitespace = True, header = None)\n",
        "  X[:,:,1] = dat_.as_matrix()\n",
        "\n",
        "  label_path = 'https://raw.githubusercontent.com/BeaverWorksMedlytics/datasets/master/week2_conv1d/IntertialSignals/body_acc_z_test.txt'\n",
        "  dat_ = pd.read_csv(label_path, delim_whitespace = True, header = None)\n",
        "  X[:,:,2] = dat_.as_matrix()\n",
        "\n",
        "  label_path = 'https://raw.githubusercontent.com/BeaverWorksMedlytics/datasets/master/week2_conv1d/IntertialSignals/body_gyro_x_test.txt'\n",
        "  dat_ = pd.read_csv(label_path, delim_whitespace = True, header = None)\n",
        "  X[:,:,3] = dat_.as_matrix()\n",
        "\n",
        "  label_path = 'https://raw.githubusercontent.com/BeaverWorksMedlytics/datasets/master/week2_conv1d/IntertialSignals/body_gyro_y_test.txt'\n",
        "  dat_ = pd.read_csv(label_path, delim_whitespace = True, header = None)\n",
        "  X[:,:,4] = dat_.as_matrix()\n",
        "\n",
        "  label_path = 'https://raw.githubusercontent.com/BeaverWorksMedlytics/datasets/master/week2_conv1d/IntertialSignals/body_gyro_z_test.txt'\n",
        "  dat_ = pd.read_csv(label_path, delim_whitespace = True, header = None)\n",
        "  X[:,:,5] = dat_.as_matrix()\n",
        "\n",
        "  label_path = 'https://raw.githubusercontent.com/BeaverWorksMedlytics/datasets/master/week2_conv1d/IntertialSignals/total_acc_x_test.txt'\n",
        "  dat_ = pd.read_csv(label_path, delim_whitespace = True, header = None)\n",
        "  X[:,:,6] = dat_.as_matrix()\n",
        "\n",
        "  label_path = 'https://raw.githubusercontent.com/BeaverWorksMedlytics/datasets/master/week2_conv1d/IntertialSignals/total_acc_y_test.txt'\n",
        "  dat_ = pd.read_csv(label_path, delim_whitespace = True, header = None)\n",
        "  X[:,:,7] = dat_.as_matrix()\n",
        "\n",
        "  label_path = 'https://raw.githubusercontent.com/BeaverWorksMedlytics/datasets/master/week2_conv1d/IntertialSignals/total_acc_z_test.txt'\n",
        "  dat_ = pd.read_csv(label_path, delim_whitespace = True, header = None)\n",
        "  X[:,:,8] = dat_.as_matrix()\n",
        "\n",
        "\n",
        "  # Return \n",
        "  return X, labels[0].values, list_of_channels"
      ],
      "execution_count": 0,
      "outputs": []
    },
    {
      "metadata": {
        "id": "wrog_9co1HhG",
        "colab_type": "code",
        "colab": {}
      },
      "cell_type": "code",
      "source": [
        "def one_hot(labels, n_class = 6):\n",
        "\t\"\"\" One-hot encoding \"\"\"\n",
        "\texpansion = np.eye(n_class)\n",
        "\ty = expansion[:, labels-1].T\n",
        "\tassert y.shape[1] == n_class, \"Wrong number of labels!\"\n",
        "\n",
        "\treturn y"
      ],
      "execution_count": 0,
      "outputs": []
    },
    {
      "metadata": {
        "id": "EYft5h8x1IbU",
        "colab_type": "code",
        "colab": {}
      },
      "cell_type": "code",
      "source": [
        "def get_batches(X, y, batch_size = 100):\n",
        "\t\"\"\" Return a generator for batches \"\"\"\n",
        "\tn_batches = len(X) // batch_size\n",
        "\tX, y = X[:n_batches*batch_size], y[:n_batches*batch_size]\n",
        "\n",
        "\t# Loop over batches and yield\n",
        "\tfor b in range(0, len(X), batch_size):\n",
        "\t\tyield X[b:b+batch_size], y[b:b+batch_size]"
      ],
      "execution_count": 0,
      "outputs": []
    }
  ]
}